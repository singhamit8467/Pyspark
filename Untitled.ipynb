{
 "cells": [
  {
   "cell_type": "code",
   "execution_count": null,
   "id": "65c50277-7d3b-40b0-bd44-135299ace04a",
   "metadata": {},
   "outputs": [],
   "source": [
    "# PYSPARK - Python\n",
    "# By : AMIT KUMAR SINGH\n",
    "# Email : singhamit8467@gmail.com"
   ]
  },
  {
   "cell_type": "code",
   "execution_count": 1,
   "id": "fa3c4f33-f393-4aa2-8a0d-00848e7cde45",
   "metadata": {
    "scrolled": true
   },
   "outputs": [
    {
     "name": "stdout",
     "output_type": "stream",
     "text": [
      "Defaulting to user installation because normal site-packages is not writeable\n",
      "Looking in links: /usr/share/pip-wheels\n",
      "Requirement already satisfied: pyspark in ./.local/lib/python3.11/site-packages (3.5.1)\n",
      "Requirement already satisfied: py4j==0.10.9.7 in ./.local/lib/python3.11/site-packages (from pyspark) (0.10.9.7)\n",
      "Note: you may need to restart the kernel to use updated packages.\n"
     ]
    }
   ],
   "source": [
    "pip install pyspark"
   ]
  },
  {
   "cell_type": "code",
   "execution_count": 2,
   "id": "77b71c66-6716-4a6b-9bcd-cef8d6e1bcb7",
   "metadata": {},
   "outputs": [],
   "source": [
    "import pyspark\n",
    "from pyspark import SparkContext"
   ]
  },
  {
   "cell_type": "code",
   "execution_count": 3,
   "id": "eb70bfa5-8e06-4489-923f-390157a627a2",
   "metadata": {},
   "outputs": [
    {
     "name": "stderr",
     "output_type": "stream",
     "text": [
      "24/06/26 13:38:30 WARN Utils: Your hostname, blue-nbjupyterhub6 resolves to a loopback address: 127.0.0.1; using 10.0.0.48 instead (on interface ens5)\n",
      "24/06/26 13:38:30 WARN Utils: Set SPARK_LOCAL_IP if you need to bind to another address\n",
      "Setting default log level to \"WARN\".\n",
      "To adjust logging level use sc.setLogLevel(newLevel). For SparkR, use setLogLevel(newLevel).\n",
      "24/06/26 13:38:31 WARN NativeCodeLoader: Unable to load native-hadoop library for your platform... using builtin-java classes where applicable\n"
     ]
    }
   ],
   "source": [
    "sc=SparkContext()"
   ]
  },
  {
   "cell_type": "code",
   "execution_count": 4,
   "id": "e1e87534-1934-41b9-8fff-e0419601eaf6",
   "metadata": {},
   "outputs": [],
   "source": [
    "Input=sc.textFile('people.txt')"
   ]
  },
  {
   "cell_type": "code",
   "execution_count": 5,
   "id": "8cfae0f6-88e1-46b5-8c28-df14e49fa365",
   "metadata": {},
   "outputs": [
    {
     "data": {
      "text/plain": [
       "people.txt MapPartitionsRDD[1] at textFile at NativeMethodAccessorImpl.java:0"
      ]
     },
     "execution_count": 5,
     "metadata": {},
     "output_type": "execute_result"
    }
   ],
   "source": [
    "Input"
   ]
  },
  {
   "cell_type": "code",
   "execution_count": 6,
   "id": "9a17fe88-4a00-442d-9cc9-ebfcfd9597e7",
   "metadata": {},
   "outputs": [
    {
     "name": "stderr",
     "output_type": "stream",
     "text": [
      "                                                                                \r"
     ]
    },
    {
     "data": {
      "text/plain": [
       "['Michael, 29', 'Justin, 19']"
      ]
     },
     "execution_count": 6,
     "metadata": {},
     "output_type": "execute_result"
    }
   ],
   "source": [
    "Input.top(2)"
   ]
  },
  {
   "cell_type": "code",
   "execution_count": 7,
   "id": "32ab7388-bc51-4486-a393-443899af1f62",
   "metadata": {},
   "outputs": [],
   "source": [
    "from pyspark.sql import SparkSession\n",
    "from pyspark.sql.types import *"
   ]
  },
  {
   "cell_type": "code",
   "execution_count": 8,
   "id": "93efdbb2-dbac-41e4-bc0f-69715db110bb",
   "metadata": {},
   "outputs": [],
   "source": [
    "spark=SparkSession.builder.config(\"spark.com.config.option\",\"some-value\").getOrCreate()"
   ]
  },
  {
   "cell_type": "code",
   "execution_count": 9,
   "id": "bd5d99a4-c8cc-4394-9c18-939ad90a7496",
   "metadata": {},
   "outputs": [],
   "source": [
    "df=spark.read.json('people.json')"
   ]
  },
  {
   "cell_type": "code",
   "execution_count": 10,
   "id": "87cc218f-36ac-4b85-8158-7f7a86329605",
   "metadata": {},
   "outputs": [
    {
     "name": "stdout",
     "output_type": "stream",
     "text": [
      "+----+-------+\n",
      "| age|   name|\n",
      "+----+-------+\n",
      "|NULL|Michael|\n",
      "|  30|   Andy|\n",
      "|  19| Justin|\n",
      "+----+-------+\n",
      "\n"
     ]
    }
   ],
   "source": [
    "df.show()"
   ]
  },
  {
   "cell_type": "code",
   "execution_count": 11,
   "id": "6c07d6a0-911f-40c4-ae31-b292f6a47b7a",
   "metadata": {},
   "outputs": [
    {
     "name": "stdout",
     "output_type": "stream",
     "text": [
      "root\n",
      " |-- age: long (nullable = true)\n",
      " |-- name: string (nullable = true)\n",
      "\n"
     ]
    }
   ],
   "source": [
    "df.printSchema()"
   ]
  },
  {
   "cell_type": "code",
   "execution_count": 12,
   "id": "a6036a77-462f-47f0-8519-6ef7544c22e9",
   "metadata": {},
   "outputs": [
    {
     "name": "stdout",
     "output_type": "stream",
     "text": [
      "+-------+\n",
      "|   name|\n",
      "+-------+\n",
      "|Michael|\n",
      "|   Andy|\n",
      "| Justin|\n",
      "+-------+\n",
      "\n"
     ]
    }
   ],
   "source": [
    "df.select(\"name\").show()"
   ]
  },
  {
   "cell_type": "code",
   "execution_count": 13,
   "id": "1daf427c-bf0b-4f4c-862c-312444fa2ac5",
   "metadata": {},
   "outputs": [
    {
     "name": "stdout",
     "output_type": "stream",
     "text": [
      "+----------------+----+\n",
      "|(name = Michael)| age|\n",
      "+----------------+----+\n",
      "|            true|NULL|\n",
      "|           false|  30|\n",
      "|           false|  19|\n",
      "+----------------+----+\n",
      "\n"
     ]
    }
   ],
   "source": [
    "df.select(df['name']=='Michael',df['age']).show()\n"
   ]
  },
  {
   "cell_type": "code",
   "execution_count": 14,
   "id": "0dae7733-bfd2-414c-9b9c-8f67e992433b",
   "metadata": {},
   "outputs": [
    {
     "name": "stdout",
     "output_type": "stream",
     "text": [
      "+---------------+----+\n",
      "|(name = Justin)| age|\n",
      "+---------------+----+\n",
      "|          false|NULL|\n",
      "|          false|  30|\n",
      "|           true|  19|\n",
      "+---------------+----+\n",
      "\n"
     ]
    }
   ],
   "source": [
    "df.select(df['name']=='Justin',df['age']).show()"
   ]
  },
  {
   "cell_type": "code",
   "execution_count": 25,
   "id": "d5be710b-c66d-48d2-b192-07741bc640ae",
   "metadata": {},
   "outputs": [],
   "source": [
    "df.createOrReplaceTempView(\"people\")"
   ]
  },
  {
   "cell_type": "code",
   "execution_count": 27,
   "id": "65a1c504-a8b1-41a2-b3cb-b834ff20d4b3",
   "metadata": {},
   "outputs": [],
   "source": [
    "sqlDF=spark.sql('select * from people')"
   ]
  },
  {
   "cell_type": "code",
   "execution_count": 29,
   "id": "3951172a-b634-4204-b787-9e921f5885f7",
   "metadata": {},
   "outputs": [
    {
     "name": "stdout",
     "output_type": "stream",
     "text": [
      "+----+-------+\n",
      "| age|   name|\n",
      "+----+-------+\n",
      "|NULL|Michael|\n",
      "|  30|   Andy|\n",
      "|  19| Justin|\n",
      "+----+-------+\n",
      "\n"
     ]
    }
   ],
   "source": [
    "sqlDF.show()"
   ]
  },
  {
   "cell_type": "code",
   "execution_count": 34,
   "id": "ed8748d3-ff3c-4a58-a6c1-35a1206510ea",
   "metadata": {},
   "outputs": [
    {
     "data": {
      "text/plain": [
       "DataFrame[age: bigint, name: string]"
      ]
     },
     "execution_count": 34,
     "metadata": {},
     "output_type": "execute_result"
    }
   ],
   "source": [
    "sqlDF"
   ]
  },
  {
   "cell_type": "code",
   "execution_count": 36,
   "id": "0ebab6af-a3ff-45c6-9f9b-5e2de8e90113",
   "metadata": {},
   "outputs": [],
   "source": [
    "x=spark.sql('select * from people where age>20')"
   ]
  },
  {
   "cell_type": "code",
   "execution_count": 38,
   "id": "7e68f2f4-8596-44cc-9cf5-c1ad0efa242a",
   "metadata": {},
   "outputs": [
    {
     "data": {
      "text/plain": [
       "DataFrame[age: bigint, name: string]"
      ]
     },
     "execution_count": 38,
     "metadata": {},
     "output_type": "execute_result"
    }
   ],
   "source": [
    "x"
   ]
  },
  {
   "cell_type": "code",
   "execution_count": 40,
   "id": "958d080c-0cc6-475e-a584-e9026bd2c2e7",
   "metadata": {},
   "outputs": [
    {
     "name": "stdout",
     "output_type": "stream",
     "text": [
      "+---+----+\n",
      "|age|name|\n",
      "+---+----+\n",
      "| 30|Andy|\n",
      "+---+----+\n",
      "\n"
     ]
    }
   ],
   "source": [
    "x.show()"
   ]
  },
  {
   "cell_type": "code",
   "execution_count": 42,
   "id": "ea593ed8-5c9a-41d6-b683-2031e7eb9ca1",
   "metadata": {},
   "outputs": [
    {
     "data": {
      "text/plain": [
       "DataFrame[name: string]"
      ]
     },
     "execution_count": 42,
     "metadata": {},
     "output_type": "execute_result"
    }
   ],
   "source": [
    "x=spark.sql('select Distinct(name) from people')\n",
    "x"
   ]
  },
  {
   "cell_type": "code",
   "execution_count": 44,
   "id": "61dc4548-7ffd-428c-8d98-b2ede949f1ac",
   "metadata": {},
   "outputs": [
    {
     "name": "stdout",
     "output_type": "stream",
     "text": [
      "+-------+\n",
      "|   name|\n",
      "+-------+\n",
      "|Michael|\n",
      "|   Andy|\n",
      "| Justin|\n",
      "+-------+\n",
      "\n"
     ]
    }
   ],
   "source": [
    "    x.show()"
   ]
  },
  {
   "cell_type": "code",
   "execution_count": 48,
   "id": "46b20216-b632-4738-8395-6d99ae7bd223",
   "metadata": {},
   "outputs": [],
   "source": [
    "    y=x.columns"
   ]
  },
  {
   "cell_type": "code",
   "execution_count": 52,
   "id": "b1fffa9f-c333-495c-849d-6944e303b51f",
   "metadata": {},
   "outputs": [
    {
     "name": "stdout",
     "output_type": "stream",
     "text": [
      "['name']\n"
     ]
    }
   ],
   "source": [
    "    print(y)"
   ]
  },
  {
   "cell_type": "code",
   "execution_count": 66,
   "id": "2d915098-2bde-460a-860b-49cabab85063",
   "metadata": {},
   "outputs": [
    {
     "name": "stdout",
     "output_type": "stream",
     "text": [
      "+----+-------+\n",
      "| age|   name|\n",
      "+----+-------+\n",
      "|NULL|Michael|\n",
      "|  30|   Andy|\n",
      "|  19| Justin|\n",
      "+----+-------+\n",
      "\n"
     ]
    }
   ],
   "source": [
    "    sqlDF.show()"
   ]
  },
  {
   "cell_type": "code",
   "execution_count": 76,
   "id": "2ce6dd1e-7416-4f8b-840c-04a94cbd59a7",
   "metadata": {},
   "outputs": [
    {
     "name": "stdout",
     "output_type": "stream",
     "text": [
      "+----+-------+\n",
      "| age|   name|\n",
      "+----+-------+\n",
      "|NULL|Michael|\n",
      "|  30|   Andy|\n",
      "+----+-------+\n",
      "\n"
     ]
    }
   ],
   "source": [
    "    sqlDF.limit(2).show()"
   ]
  },
  {
   "cell_type": "code",
   "execution_count": null,
   "id": "a0766d1d-c88e-49c5-9194-c3281f8f7374",
   "metadata": {},
   "outputs": [],
   "source": []
  }
 ],
 "metadata": {
  "kernelspec": {
   "display_name": "anaconda-panel-2023.05-py310",
   "language": "python",
   "name": "conda-env-anaconda-panel-2023.05-py310-py"
  },
  "language_info": {
   "codemirror_mode": {
    "name": "ipython",
    "version": 3
   },
   "file_extension": ".py",
   "mimetype": "text/x-python",
   "name": "python",
   "nbconvert_exporter": "python",
   "pygments_lexer": "ipython3",
   "version": "3.11.5"
  }
 },
 "nbformat": 4,
 "nbformat_minor": 5
}
